{
 "cells": [
  {
   "cell_type": "code",
   "execution_count": 83,
   "metadata": {
    "collapsed": true
   },
   "outputs": [],
   "source": [
    "import numpy as np\n",
    "import pandas as pd\n",
    "from statistics import mode"
   ]
  },
  {
   "cell_type": "markdown",
   "metadata": {},
   "source": [
    "Solution \"by hand\":\n",
    "\n",
    "Greg, Marcia, Peter, Jan, Bobby, Cindy, and Oliver are 14, 12, 11, 10, 8, 6, and 8 years old, respectively, on their first appearances on the show. \n"
   ]
  },
  {
   "cell_type": "code",
   "execution_count": 84,
   "metadata": {
    "collapsed": false
   },
   "outputs": [],
   "source": [
    "brady_bunch = pd.DataFrame(index = ['Greg', 'Marcia', 'Peter', 'Jan', 'Bobby', 'Cindy', 'Oliver'])\n",
    "brady_bunch['age'] = [14, 12, 11, 10, 8, 6, 8]"
   ]
  },
  {
   "cell_type": "markdown",
   "metadata": {},
   "source": [
    "1 \n",
    "\n",
    "The sum of their ages is:\n",
    "\n",
    "14 + 12 + 11 + 10 + 8 + 6 + 8 = \n",
    "\n",
    "   26   +    21   +     22    =\n",
    "   \n",
    "             69     years total\n",
    "             \n",
    "mean is the sum over the total number of kids, or 69 over 7 ~= 9.9. The mode is 8 since it appears the most, 2 times. The median is 10, since there are three ages above 10 and three below.\n",
    "The variance is a little tricky to calculate by hand, but we'll round the mean up to 10 since it's pretty close anyways and it'll be so much easier to calculate.\n",
    "\n",
    "Variance = v = \n",
    "\n",
    "( (14 - 10)^2 + (12 - 10)^2 + (11 - 10) ^ 2 + (10 - 10) ^ 2 + 2((8 - 10) ^ 2) + (6 - 10) ^ 2 ) / (7 - 1) = \n",
    "\n",
    "( 4^2 + 2^2 + 1^2 + 0 + 2x((-2)^2) + (-4)^2 ) / 6 =\n",
    "\n",
    "( 16 + 4 + 1 + 2x4 + 16 ) / 6 =\n",
    "\n",
    "45 / 6 = 7.5\n",
    "\n",
    "standard deviation = std =\n",
    "\n",
    "sqrt(v) =\n",
    "\n",
    "sqrt(7.5) ~= 2.5\n",
    "\n",
    "and, finally, standard error:\n",
    "\n",
    "se = std / sqrt(n) = \n",
    "\n",
    "2.5 / sqrt(7) ~= 1.0\n",
    "\n",
    "Compared to Python's results:"
   ]
  },
  {
   "cell_type": "code",
   "execution_count": 85,
   "metadata": {
    "collapsed": false
   },
   "outputs": [
    {
     "name": "stdout",
     "output_type": "stream",
     "text": [
      "sum is 69\n",
      "mean is 9.857142857142858\n",
      "median is 10.0\n",
      "mode is 8\n",
      "variance is 6.408163265306122\n",
      "standard deviation is 2.734262327610589\n",
      "standard deviation of population is 2.5314350209527645\n",
      "standard error is 1.0334540197243192\n"
     ]
    }
   ],
   "source": [
    "print('sum is {}'.format(np.sum(brady_bunch['age'])))\n",
    "print('mean is {}'.format(np.mean(brady_bunch['age'])))\n",
    "print('median is {}'.format(np.median(brady_bunch['age'])))\n",
    "print('mode is {}'.format(mode(brady_bunch['age'])))\n",
    "print('variance is {}'.format(np.var(brady_bunch['age'])))\n",
    "print('standard deviation is {}'.format(np.std(brady_bunch['age'], ddof=1)))\n",
    "print('standard deviation of population is {}'.format(np.std(brady_bunch['age'], ddof=0)))\n",
    "print('standard error is {}'.format(np.std(brady_bunch['age'], ddof=1) / np.sqrt(len(brady_bunch['age']))))\n"
   ]
  },
  {
   "cell_type": "markdown",
   "metadata": {},
   "source": [
    "2 \n",
    "\n",
    "I wouldn't choose mode as central tendancy since 8 is the mode, and it doesn't seem to represent well the central tendancy. The median and mean are close so I'll go with the median, which is a nicer whole integer 10.\n",
    "    As for variance, I think the standard deviation of the population is more appropriate. If our population is the brady bunch kids, our sample contains all of the kids. So, 2.5, or the std of population is my choice measurement for variance.\n",
    "    \"10 +- 1 years old\" only represents two of the seven kids, so standard error doesn't seem like a good measure of variance either.\n",
    "    "
   ]
  },
  {
   "cell_type": "markdown",
   "metadata": {},
   "source": [
    "3\n",
    "\n",
    "Cindy has a birthday and turns 7. That pushes our mean age up to 10, keeps our median and mode the same, and lowers our variance:"
   ]
  },
  {
   "cell_type": "code",
   "execution_count": 86,
   "metadata": {
    "collapsed": false
   },
   "outputs": [
    {
     "data": {
      "text/html": [
       "<div>\n",
       "<table border=\"1\" class=\"dataframe\">\n",
       "  <thead>\n",
       "    <tr style=\"text-align: right;\">\n",
       "      <th></th>\n",
       "      <th>age</th>\n",
       "    </tr>\n",
       "  </thead>\n",
       "  <tbody>\n",
       "    <tr>\n",
       "      <th>Greg</th>\n",
       "      <td>14</td>\n",
       "    </tr>\n",
       "    <tr>\n",
       "      <th>Marcia</th>\n",
       "      <td>12</td>\n",
       "    </tr>\n",
       "    <tr>\n",
       "      <th>Peter</th>\n",
       "      <td>11</td>\n",
       "    </tr>\n",
       "    <tr>\n",
       "      <th>Jan</th>\n",
       "      <td>10</td>\n",
       "    </tr>\n",
       "    <tr>\n",
       "      <th>Bobby</th>\n",
       "      <td>8</td>\n",
       "    </tr>\n",
       "    <tr>\n",
       "      <th>Cindy</th>\n",
       "      <td>7</td>\n",
       "    </tr>\n",
       "    <tr>\n",
       "      <th>Oliver</th>\n",
       "      <td>8</td>\n",
       "    </tr>\n",
       "  </tbody>\n",
       "</table>\n",
       "</div>"
      ],
      "text/plain": [
       "        age\n",
       "Greg     14\n",
       "Marcia   12\n",
       "Peter    11\n",
       "Jan      10\n",
       "Bobby     8\n",
       "Cindy     7\n",
       "Oliver    8"
      ]
     },
     "execution_count": 86,
     "metadata": {},
     "output_type": "execute_result"
    }
   ],
   "source": [
    "brady_bunch.loc['Cindy', 'age'] = 7\n",
    "brady_bunch"
   ]
  },
  {
   "cell_type": "code",
   "execution_count": 87,
   "metadata": {
    "collapsed": false
   },
   "outputs": [
    {
     "name": "stdout",
     "output_type": "stream",
     "text": [
      "sum is 70\n",
      "mean is 10.0\n",
      "median is 10.0\n",
      "mode is 8\n",
      "variance is 5.428571428571429\n",
      "standard deviation is 2.516611478423583\n",
      "standard deviation of population is 2.32992949004287\n",
      "standard error is 0.9511897312113418\n"
     ]
    }
   ],
   "source": [
    "print('sum is {}'.format(np.sum(brady_bunch['age'])))\n",
    "print('mean is {}'.format(np.mean(brady_bunch['age'])))\n",
    "print('median is {}'.format(np.median(brady_bunch['age'])))\n",
    "print('mode is {}'.format(mode(brady_bunch['age'])))\n",
    "print('variance is {}'.format(np.var(brady_bunch['age'])))\n",
    "print('standard deviation is {}'.format(np.std(brady_bunch['age'], ddof=1)))\n",
    "print('standard deviation of population is {}'.format(np.std(brady_bunch['age'], ddof=0)))\n",
    "print('standard error is {}'.format(np.std(brady_bunch['age'], ddof=1) / np.sqrt(len(brady_bunch['age']))))"
   ]
  },
  {
   "cell_type": "markdown",
   "metadata": {},
   "source": [
    "4\n",
    "\n",
    "If we replace cousin Oliver with 1-year old Jessica, I expect we'll see a drop in mean, an increase in variance, but again median and mode will not change, which is actually ok because the set of kids, even if they include Jessica, still mostly represent kids 'around age 10'. Let's see:"
   ]
  },
  {
   "cell_type": "code",
   "execution_count": 88,
   "metadata": {
    "collapsed": true
   },
   "outputs": [],
   "source": [
    "brady_bunch = pd.DataFrame(index = ['Greg', 'Marcia', 'Peter', 'Jan', 'Bobby', 'Cindy', 'Jessica'])\n",
    "brady_bunch['age'] = [14, 12, 11, 10, 8, 7, 1]"
   ]
  },
  {
   "cell_type": "code",
   "execution_count": 89,
   "metadata": {
    "collapsed": false
   },
   "outputs": [
    {
     "name": "stdout",
     "output_type": "stream",
     "text": [
      "sum is 63\n",
      "mean is 9.0\n",
      "median is 10.0\n",
      "no mode\n",
      "variance is 15.428571428571429\n",
      "standard deviation is 4.242640687119285\n",
      "standard deviation of population is 3.927922024247863\n",
      "standard error is 1.6035674514745462\n"
     ]
    }
   ],
   "source": [
    "print('sum is {}'.format(np.sum(brady_bunch['age'])))\n",
    "print('mean is {}'.format(np.mean(brady_bunch['age'])))\n",
    "print('median is {}'.format(np.median(brady_bunch['age'])))\n",
    "#print('mode is {}'.format(mode(brady_bunch['age']))) raises a statistics error: 'no unique mode'\n",
    "print('no mode')\n",
    "print('variance is {}'.format(np.var(brady_bunch['age'])))\n",
    "print('standard deviation is {}'.format(np.std(brady_bunch['age'], ddof=1)))\n",
    "print('standard deviation of population is {}'.format(np.std(brady_bunch['age'], ddof=0)))\n",
    "print('standard error is {}'.format(np.std(brady_bunch['age'], ddof=1) / np.sqrt(len(brady_bunch['age']))))"
   ]
  },
  {
   "cell_type": "markdown",
   "metadata": {},
   "source": [
    "See that mean dropped a full year of age?  variance has also increased a lot, as well as our standard deviation, which makes sense given Jessica's age is so far from all the others. "
   ]
  },
  {
   "cell_type": "markdown",
   "metadata": {},
   "source": [
    "5\n",
    "\n",
    "To tackle the question of \"how many americans were fans of The Brady Bunch on the 50th anniversary of the show,\" we'll just take the limited data we have as a set with four datapoints:\n",
    "\n",
    "TV Guide 20% fans \n",
    "\n",
    "Entertainment Weekly 23% \n",
    "\n",
    "fans Pop Culture Today 17% \n",
    "\n",
    "fans SciPhi Phanatic 5% fans\n",
    "\n"
   ]
  },
  {
   "cell_type": "code",
   "execution_count": 90,
   "metadata": {
    "collapsed": false
   },
   "outputs": [],
   "source": [
    "fans = pd.DataFrame(index=['TV Guide', 'Entertainment Weekly', 'Pop Culture Today', 'SciPhi Phanatic'])\n",
    "fans['poll results'] = [20, 23, 17, 5]"
   ]
  },
  {
   "cell_type": "code",
   "execution_count": 91,
   "metadata": {
    "collapsed": false
   },
   "outputs": [
    {
     "name": "stdout",
     "output_type": "stream",
     "text": [
      "sum is 65\n",
      "mean is 16.25\n",
      "median is 18.5\n",
      "no mode\n",
      "variance is 46.6875\n",
      "standard deviation is 7.88986691902975\n",
      "standard deviation of population is 6.832825184358224\n",
      "standard error is 3.944933459514875\n"
     ]
    }
   ],
   "source": [
    "print('sum is {}'.format(np.sum(fans['poll results'])))\n",
    "print('mean is {}'.format(np.mean(fans['poll results'])))\n",
    "print('median is {}'.format(np.median(fans['poll results'])))\n",
    "#print('mode is {}'.format(mode(fans['poll results']))) raises a statistics error: 'no unique mode'\n",
    "print('no mode')\n",
    "print('variance is {}'.format(np.var(fans['poll results'])))\n",
    "print('standard deviation is {}'.format(np.std(fans['poll results'], ddof=1)))\n",
    "print('standard deviation of population is {}'.format(np.std(fans['poll results'], ddof=0)))\n",
    "print('standard error is {}'.format(np.std(fans['poll results'], ddof=1) / np.sqrt(len(fans['poll results']))))"
   ]
  },
  {
   "cell_type": "markdown",
   "metadata": {},
   "source": [
    "Bearing in mind the fact that we have a very small sample size, we can easily just take the mean and standard error and say that probably 16 % +- 4% of the US population - somewhere between 12% and 20% - are fans of the show 50 years later.\n",
    "\n",
    "Or, we could say that the SciPhans readers are outliers and probably don't represent the population as a whole very well. In that case, we could look at the median and say the result is closer to 19%, which agrees with the mean and error margin. \n",
    "\n",
    "However, I don't know exactly how to put margins on the figure, how the variance relates to the median. To be safe, we'll go with 16 % +- 4% of the US population as our final answer."
   ]
  },
  {
   "cell_type": "code",
   "execution_count": null,
   "metadata": {
    "collapsed": true
   },
   "outputs": [],
   "source": []
  }
 ],
 "metadata": {
  "kernelspec": {
   "display_name": "Python 3",
   "language": "python",
   "name": "python3"
  },
  "language_info": {
   "codemirror_mode": {
    "name": "ipython",
    "version": 3
   },
   "file_extension": ".py",
   "mimetype": "text/x-python",
   "name": "python",
   "nbconvert_exporter": "python",
   "pygments_lexer": "ipython3",
   "version": "3.6.0"
  }
 },
 "nbformat": 4,
 "nbformat_minor": 2
}
